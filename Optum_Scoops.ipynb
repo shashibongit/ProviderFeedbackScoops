{
  "nbformat": 4,
  "nbformat_minor": 0,
  "metadata": {
    "colab": {
      "provenance": [],
      "authorship_tag": "ABX9TyPWT3pEwZcW+rzSM92cSEip",
      "include_colab_link": true
    },
    "kernelspec": {
      "name": "python3",
      "display_name": "Python 3"
    },
    "language_info": {
      "name": "python"
    }
  },
  "cells": [
    {
      "cell_type": "markdown",
      "metadata": {
        "id": "view-in-github",
        "colab_type": "text"
      },
      "source": [
        "<a href=\"https://colab.research.google.com/github/shashibongit/ProviderFeedbackScoops/blob/main/Optum_Scoops.ipynb\" target=\"_parent\"><img src=\"https://colab.research.google.com/assets/colab-badge.svg\" alt=\"Open In Colab\"/></a>"
      ]
    },
    {
      "cell_type": "code",
      "source": [
        "import re\n",
        "import nltk\n",
        "from nltk import *\n",
        "import pandas as pd\n",
        "import numpy as np\n",
        "nltk.download('punkt')\n",
        "nltk.download('stopwords')"
      ],
      "metadata": {
        "id": "bbSp-flagTi-",
        "colab": {
          "base_uri": "https://localhost:8080/"
        },
        "outputId": "bf00bb09-e935-4fe0-bc54-87f13df75ec2"
      },
      "execution_count": null,
      "outputs": [
        {
          "output_type": "stream",
          "name": "stderr",
          "text": [
            "[nltk_data] Downloading package punkt to /root/nltk_data...\n",
            "[nltk_data]   Unzipping tokenizers/punkt.zip.\n",
            "[nltk_data] Downloading package stopwords to /root/nltk_data...\n",
            "[nltk_data]   Unzipping corpora/stopwords.zip.\n"
          ]
        },
        {
          "output_type": "execute_result",
          "data": {
            "text/plain": [
              "True"
            ]
          },
          "metadata": {},
          "execution_count": 1
        }
      ]
    },
    {
      "cell_type": "code",
      "execution_count": null,
      "metadata": {
        "id": "qXK5gln8f9j3",
        "colab": {
          "base_uri": "https://localhost:8080/"
        },
        "outputId": "3e0e3479-02ce-488a-949d-75221ffd2f47"
      },
      "outputs": [
        {
          "output_type": "execute_result",
          "data": {
            "text/plain": [
              "0    This freaking doctor couldn't find out whats m...\n",
              "1    The doctor was an ass. The worst experience ev...\n",
              "2    It was a great doctor that treated my Disease ...\n",
              "3    It was okay not that great. They charge a shit...\n",
              "4        Don't go.  The Hospital is Bullshit%#^@$@#!@#\n",
              "Name: Review, dtype: object"
            ]
          },
          "metadata": {},
          "execution_count": 2
        }
      ],
      "source": [
        "data = pd.read_csv(\"/content/Scoops dataset.csv\")\n",
        "data = data['Review']\n",
        "data"
      ]
    },
    {
      "cell_type": "code",
      "source": [
        "data = data.str.lower()\n",
        "data"
      ],
      "metadata": {
        "id": "0Sjv1OdN3Vmc",
        "colab": {
          "base_uri": "https://localhost:8080/"
        },
        "outputId": "9d2aa501-c78c-424e-ae8e-406897e7de56"
      },
      "execution_count": null,
      "outputs": [
        {
          "output_type": "execute_result",
          "data": {
            "text/plain": [
              "0    this freaking doctor couldn't find out whats m...\n",
              "1    the doctor was an ass. the worst experience ev...\n",
              "2    it was a great doctor that treated my disease ...\n",
              "3    it was okay not that great. they charge a shit...\n",
              "4        don't go.  the hospital is bullshit%#^@$@#!@#\n",
              "Name: Review, dtype: object"
            ]
          },
          "metadata": {},
          "execution_count": 3
        }
      ]
    },
    {
      "cell_type": "code",
      "source": [
        "text_data = []\n",
        "for i in data:\n",
        "  i = re.sub(\"[():,.'!#@$%^&*]\", \"\", i)\n",
        "  text_data.append(i)\n",
        "text_data"
      ],
      "metadata": {
        "id": "jcYtXcNOsRqR",
        "colab": {
          "base_uri": "https://localhost:8080/"
        },
        "outputId": "583e95ff-0025-4c95-8482-349bd49890c7"
      },
      "execution_count": null,
      "outputs": [
        {
          "output_type": "execute_result",
          "data": {
            "text/plain": [
              "['this freaking doctor couldnt find out whats my diagnosis and kept me on 10 different pills just for precaution when i needed none of them',\n",
              " 'the doctor was an ass the worst experience ever  the hospital was shit and dirty it sucked',\n",
              " 'it was a great doctor that treated my disease  made me feel at ease all the time ',\n",
              " 'it was okay not that great they charge a shit ton of money  for small stupid problem',\n",
              " 'dont go  the hospital is bullshit']"
            ]
          },
          "metadata": {},
          "execution_count": 4
        }
      ]
    },
    {
      "cell_type": "code",
      "source": [
        "words = []\n",
        "for i in text_data:\n",
        "  words.append(nltk.word_tokenize(i))\n",
        "words = list(np.concatenate(words).flat)\n",
        "words"
      ],
      "metadata": {
        "id": "qDNJZKJjr77j",
        "colab": {
          "base_uri": "https://localhost:8080/"
        },
        "outputId": "40510d5e-0c61-40b4-9fec-c989df9d4e28"
      },
      "execution_count": null,
      "outputs": [
        {
          "output_type": "execute_result",
          "data": {
            "text/plain": [
              "['this',\n",
              " 'freaking',\n",
              " 'doctor',\n",
              " 'couldnt',\n",
              " 'find',\n",
              " 'out',\n",
              " 'whats',\n",
              " 'my',\n",
              " 'diagnosis',\n",
              " 'and',\n",
              " 'kept',\n",
              " 'me',\n",
              " 'on',\n",
              " '10',\n",
              " 'different',\n",
              " 'pills',\n",
              " 'just',\n",
              " 'for',\n",
              " 'precaution',\n",
              " 'when',\n",
              " 'i',\n",
              " 'needed',\n",
              " 'none',\n",
              " 'of',\n",
              " 'them',\n",
              " 'the',\n",
              " 'doctor',\n",
              " 'was',\n",
              " 'an',\n",
              " 'ass',\n",
              " 'the',\n",
              " 'worst',\n",
              " 'experience',\n",
              " 'ever',\n",
              " 'the',\n",
              " 'hospital',\n",
              " 'was',\n",
              " 'shit',\n",
              " 'and',\n",
              " 'dirty',\n",
              " 'it',\n",
              " 'sucked',\n",
              " 'it',\n",
              " 'was',\n",
              " 'a',\n",
              " 'great',\n",
              " 'doctor',\n",
              " 'that',\n",
              " 'treated',\n",
              " 'my',\n",
              " 'disease',\n",
              " 'made',\n",
              " 'me',\n",
              " 'feel',\n",
              " 'at',\n",
              " 'ease',\n",
              " 'all',\n",
              " 'the',\n",
              " 'time',\n",
              " 'it',\n",
              " 'was',\n",
              " 'okay',\n",
              " 'not',\n",
              " 'that',\n",
              " 'great',\n",
              " 'they',\n",
              " 'charge',\n",
              " 'a',\n",
              " 'shit',\n",
              " 'ton',\n",
              " 'of',\n",
              " 'money',\n",
              " 'for',\n",
              " 'small',\n",
              " 'stupid',\n",
              " 'problem',\n",
              " 'dont',\n",
              " 'go',\n",
              " 'the',\n",
              " 'hospital',\n",
              " 'is',\n",
              " 'bullshit']"
            ]
          },
          "metadata": {},
          "execution_count": 5
        }
      ]
    },
    {
      "cell_type": "code",
      "source": [
        "stopwords = nltk.corpus.stopwords.words('english')\n",
        "filtered = []\n",
        "for i in words:\n",
        "   if i not in stopwords:\n",
        "     filtered.append(i)\n",
        "filtered"
      ],
      "metadata": {
        "id": "JQfgGu8V4J5R",
        "colab": {
          "base_uri": "https://localhost:8080/"
        },
        "outputId": "65a44426-3645-4a8e-aa23-009e81e35cf6"
      },
      "execution_count": null,
      "outputs": [
        {
          "output_type": "execute_result",
          "data": {
            "text/plain": [
              "['freaking',\n",
              " 'doctor',\n",
              " 'couldnt',\n",
              " 'find',\n",
              " 'whats',\n",
              " 'diagnosis',\n",
              " 'kept',\n",
              " '10',\n",
              " 'different',\n",
              " 'pills',\n",
              " 'precaution',\n",
              " 'needed',\n",
              " 'none',\n",
              " 'doctor',\n",
              " 'ass',\n",
              " 'worst',\n",
              " 'experience',\n",
              " 'ever',\n",
              " 'hospital',\n",
              " 'shit',\n",
              " 'dirty',\n",
              " 'sucked',\n",
              " 'great',\n",
              " 'doctor',\n",
              " 'treated',\n",
              " 'disease',\n",
              " 'made',\n",
              " 'feel',\n",
              " 'ease',\n",
              " 'time',\n",
              " 'okay',\n",
              " 'great',\n",
              " 'charge',\n",
              " 'shit',\n",
              " 'ton',\n",
              " 'money',\n",
              " 'small',\n",
              " 'stupid',\n",
              " 'problem',\n",
              " 'dont',\n",
              " 'go',\n",
              " 'hospital',\n",
              " 'bullshit']"
            ]
          },
          "metadata": {},
          "execution_count": 6
        }
      ]
    },
    {
      "cell_type": "code",
      "source": [
        "inapp_words = pd.read_csv(\"/content/Inapp words.csv\")\n",
        "inapp_words = inapp_words['Inapp words']\n",
        "inapp_words = inapp_words.str.lower()"
      ],
      "metadata": {
        "id": "OULnOK-nCKXr"
      },
      "execution_count": null,
      "outputs": []
    },
    {
      "cell_type": "code",
      "source": [
        "inappropriate = []\n",
        "for i in inapp_words:\n",
        "  inappropriate.append(i)\n",
        "inappropriate"
      ],
      "metadata": {
        "colab": {
          "base_uri": "https://localhost:8080/"
        },
        "id": "9dwV_jpGeWve",
        "outputId": "de7fcc0c-7ef5-4002-90d6-8efc4609b155"
      },
      "execution_count": null,
      "outputs": [
        {
          "output_type": "execute_result",
          "data": {
            "text/plain": [
              "['bloody',\n",
              " 'dick',\n",
              " 'frigging',\n",
              " 'bollocks',\n",
              " 'bitch',\n",
              " 'shit',\n",
              " 'bastard',\n",
              " 'slapper',\n",
              " 'arse',\n",
              " 'dork',\n",
              " 'tits',\n",
              " 'moron',\n",
              " 'pillock',\n",
              " 'penis',\n",
              " 'prick',\n",
              " 'crap',\n",
              " 'nonce',\n",
              " 'cretin',\n",
              " 'asshole',\n",
              " 'ass',\n",
              " 'arse',\n",
              " 'arsehead',\n",
              " 'arsehole',\n",
              " 'bastard',\n",
              " 'bitch',\n",
              " 'bloody',\n",
              " 'bollocks',\n",
              " 'brotherfucker',\n",
              " 'bugger',\n",
              " 'bullshit',\n",
              " 'child-fucker',\n",
              " 'christ on a bike',\n",
              " 'christ on a cracker',\n",
              " 'cock',\n",
              " 'cocksucker',\n",
              " 'crap',\n",
              " 'cunt',\n",
              " 'mf',\n",
              " 'bc',\n",
              " 'bhnchd',\n",
              " 'bhenchod',\n",
              " 'maadarjaat',\n",
              " 'kutta',\n",
              " 'kuta',\n",
              " 'loda',\n",
              " 'lauda',\n",
              " 'dickhead',\n",
              " 'fatherfucker',\n",
              " 'goddamn',\n",
              " 'godsdamn',\n",
              " 'frigger',\n",
              " 'fuck',\n",
              " 'holy shit',\n",
              " 'horseshit',\n",
              " 'in shit',\n",
              " 'motherfucker',\n",
              " 'nigga',\n",
              " 'nigra',\n",
              " 'pigfucker',\n",
              " 'piss',\n",
              " 'prick',\n",
              " 'pussy',\n",
              " 'spastic',\n",
              " 'shit ass',\n",
              " 'shite',\n",
              " 'sisterfucker',\n",
              " 'slut',\n",
              " 'son of a whore',\n",
              " 'son of a bitch',\n",
              " 'spastic',\n",
              " 'wanker',\n",
              " 'turd',\n",
              " 'twat',\n",
              " 'chutiye',\n",
              " 'chutiya',\n",
              " 'betichod',\n",
              " 'gaandu',\n",
              " 'gand',\n",
              " 'gaand ',\n",
              " 'fucker',\n",
              " 'suck',\n",
              " 'sucks',\n",
              " 'freak',\n",
              " 'freaking',\n",
              " 'sucked',\n",
              " 'fucked',\n",
              " 'fucked up',\n",
              " 'shithole']"
            ]
          },
          "metadata": {},
          "execution_count": 8
        }
      ]
    },
    {
      "cell_type": "code",
      "source": [
        "def check_inappropriate(input, bad):\n",
        "  bad_words = []\n",
        "  for i in bad:\n",
        "    if i in (\" \" + \" \".join(input) + \" \"):\n",
        "      bad_words.append(i[1:len(i)-1])\n",
        "  return bad_words"
      ],
      "metadata": {
        "id": "C7gBJjGRu5hT"
      },
      "execution_count": null,
      "outputs": []
    },
    {
      "cell_type": "code",
      "source": [
        "inappropriate = [ \" \" + string + \" \" for string in inappropriate]\n",
        "inappropriate"
      ],
      "metadata": {
        "colab": {
          "base_uri": "https://localhost:8080/"
        },
        "id": "9e2ZejpM2ep8",
        "outputId": "117b173d-fd91-4364-9e56-f508436ce0b1"
      },
      "execution_count": null,
      "outputs": [
        {
          "output_type": "execute_result",
          "data": {
            "text/plain": [
              "[' bloody ',\n",
              " ' dick ',\n",
              " ' frigging ',\n",
              " ' bollocks ',\n",
              " ' bitch ',\n",
              " ' shit ',\n",
              " ' bastard ',\n",
              " ' slapper ',\n",
              " ' arse ',\n",
              " ' dork ',\n",
              " ' tits ',\n",
              " ' moron ',\n",
              " ' pillock ',\n",
              " ' penis ',\n",
              " ' prick ',\n",
              " ' crap ',\n",
              " ' nonce ',\n",
              " ' cretin ',\n",
              " ' asshole ',\n",
              " ' ass ',\n",
              " ' arse ',\n",
              " ' arsehead ',\n",
              " ' arsehole ',\n",
              " ' bastard ',\n",
              " ' bitch ',\n",
              " ' bloody ',\n",
              " ' bollocks ',\n",
              " ' brotherfucker ',\n",
              " ' bugger ',\n",
              " ' bullshit ',\n",
              " ' child-fucker ',\n",
              " ' christ on a bike ',\n",
              " ' christ on a cracker ',\n",
              " ' cock ',\n",
              " ' cocksucker ',\n",
              " ' crap ',\n",
              " ' cunt ',\n",
              " ' mf ',\n",
              " ' bc ',\n",
              " ' bhnchd ',\n",
              " ' bhenchod ',\n",
              " ' maadarjaat ',\n",
              " ' kutta ',\n",
              " ' kuta ',\n",
              " ' loda ',\n",
              " ' lauda ',\n",
              " ' dickhead ',\n",
              " ' fatherfucker ',\n",
              " ' goddamn ',\n",
              " ' godsdamn ',\n",
              " ' frigger ',\n",
              " ' fuck ',\n",
              " ' holy shit ',\n",
              " ' horseshit ',\n",
              " ' in shit ',\n",
              " ' motherfucker ',\n",
              " ' nigga ',\n",
              " ' nigra ',\n",
              " ' pigfucker ',\n",
              " ' piss ',\n",
              " ' prick ',\n",
              " ' pussy ',\n",
              " ' spastic ',\n",
              " ' shit ass ',\n",
              " ' shite ',\n",
              " ' sisterfucker ',\n",
              " ' slut ',\n",
              " ' son of a whore ',\n",
              " ' son of a bitch ',\n",
              " ' spastic ',\n",
              " ' wanker ',\n",
              " ' turd ',\n",
              " ' twat ',\n",
              " ' chutiye ',\n",
              " ' chutiya ',\n",
              " ' betichod ',\n",
              " ' gaandu ',\n",
              " ' gand ',\n",
              " ' gaand  ',\n",
              " ' fucker ',\n",
              " ' suck ',\n",
              " ' sucks ',\n",
              " ' freak ',\n",
              " ' freaking ',\n",
              " ' sucked ',\n",
              " ' fucked ',\n",
              " ' fucked up ',\n",
              " ' shithole ']"
            ]
          },
          "metadata": {},
          "execution_count": 10
        }
      ]
    },
    {
      "cell_type": "code",
      "source": [
        "check_inappropriate(filtered, inappropriate)"
      ],
      "metadata": {
        "colab": {
          "base_uri": "https://localhost:8080/"
        },
        "id": "cUN5choMHksC",
        "outputId": "71c06f1e-ce3c-42c8-bc11-9cf72187b03b"
      },
      "execution_count": null,
      "outputs": [
        {
          "output_type": "execute_result",
          "data": {
            "text/plain": [
              "['shit', 'ass', 'bullshit', 'freaking', 'sucked']"
            ]
          },
          "metadata": {},
          "execution_count": 11
        }
      ]
    }
  ]
}