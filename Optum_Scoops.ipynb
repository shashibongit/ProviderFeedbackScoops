{
  "nbformat": 4,
  "nbformat_minor": 0,
  "metadata": {
    "colab": {
      "provenance": [],
      "authorship_tag": "ABX9TyPWT3pEwZcW+rzSM92cSEip",
      "include_colab_link": true
    },
    "kernelspec": {
      "name": "python3",
      "display_name": "Python 3"
    },
    "language_info": {
      "name": "python"
    }
  },
  "cells": [
    {
      "cell_type": "markdown",
      "metadata": {
        "id": "view-in-github",
        "colab_type": "text"
      },
      "source": [
        "<a href=\"https://colab.research.google.com/github/shashibongit/ProviderFeedbackScoops/blob/main/Optum_Scoops.ipynb\" target=\"_parent\"><img src=\"https://colab.research.google.com/assets/colab-badge.svg\" alt=\"Open In Colab\"/></a>"
      ]
    },
    {
      "cell_type": "code",
      "source": [
        "import re\n",
        "import nltk\n",
        "from nltk import *\n",
        "import pandas as pd\n",
        "import numpy as np\n",
        "nltk.download('punkt')\n",
        "nltk.download('stopwords')"
      ],
      "metadata": {
        "id": "bbSp-flagTi-"
      },
      "execution_count": null,
      "outputs": []
    },
    {
      "cell_type": "code",
      "execution_count": null,
      "metadata": {
        "id": "qXK5gln8f9j3"
      },
      "outputs": [],
      "source": [
        "data = pd.read_csv(\"/content/Scoops dataset.csv\")\n",
        "data = data['Review']\n",
        "data"
      ]
    },
    {
      "cell_type": "code",
      "source": [
        "data = data.str.lower()\n",
        "data"
      ],
      "metadata": {
        "id": "0Sjv1OdN3Vmc"
      },
      "execution_count": null,
      "outputs": []
    },
    {
      "cell_type": "code",
      "source": [
        "text_data = []\n",
        "for i in data:\n",
        "  i = re.sub(\"[():,.'!#@$%^&*]\", \"\", i)\n",
        "  text_data.append(i)\n",
        "text_data"
      ],
      "metadata": {
        "id": "jcYtXcNOsRqR",
        "colab": {
          "base_uri": "https://localhost:8080/"
        },
        "outputId": "583e95ff-0025-4c95-8482-349bd49890c7"
      },
      "execution_count": null,
      "outputs": [
        {
          "output_type": "execute_result",
          "data": {
            "text/plain": [
              "['this freaking doctor couldnt find out whats my diagnosis and kept me on 10 different pills just for precaution when i needed none of them',\n",
              " 'the doctor was an ass the worst experience ever  the hospital was shit and dirty it sucked',\n",
              " 'it was a great doctor that treated my disease  made me feel at ease all the time ',\n",
              " 'it was okay not that great they charge a shit ton of money  for small stupid problem',\n",
              " 'dont go  the hospital is bullshit']"
            ]
          },
          "metadata": {},
          "execution_count": 4
        }
      ]
    },
    {
      "cell_type": "code",
      "source": [
        "words = []\n",
        "for i in text_data:\n",
        "  words.append(nltk.word_tokenize(i))\n",
        "words = list(np.concatenate(words).flat)\n",
        "words"
      ],
      "metadata": {
        "id": "qDNJZKJjr77j"
      },
      "execution_count": null,
      "outputs": []
    },
    {
      "cell_type": "code",
      "source": [
        "stopwords = nltk.corpus.stopwords.words('english')\n",
        "filtered = []\n",
        "for i in words:\n",
        "   if i not in stopwords:\n",
        "     filtered.append(i)\n",
        "filtered"
      ],
      "metadata": {
        "id": "JQfgGu8V4J5R"
      },
      "execution_count": null,
      "outputs": []
    },
    {
      "cell_type": "code",
      "source": [
        "inapp_words = pd.read_csv(\"/content/Inapp words.csv\")\n",
        "inapp_words = inapp_words['Inapp words']\n",
        "inapp_words = inapp_words.str.lower()"
      ],
      "metadata": {
        "id": "OULnOK-nCKXr"
      },
      "execution_count": null,
      "outputs": []
    },
    {
      "cell_type": "code",
      "source": [
        "inappropriate = []\n",
        "for i in inapp_words:\n",
        "  inappropriate.append(i)\n",
        "inappropriate"
      ],
      "metadata": {
        "id": "9dwV_jpGeWve"
      },
      "execution_count": null,
      "outputs": []
    },
    {
      "cell_type": "code",
      "source": [
        "def check_inappropriate(input, bad):\n",
        "  bad_words = []\n",
        "  for i in bad:\n",
        "    if i in (\" \" + \" \".join(input) + \" \"):\n",
        "      bad_words.append(i[1:len(i)-1])\n",
        "  return bad_words"
      ],
      "metadata": {
        "id": "C7gBJjGRu5hT"
      },
      "execution_count": null,
      "outputs": []
    },
    {
      "cell_type": "code",
      "source": [
        "inappropriate = [ \" \" + string + \" \" for string in inappropriate]\n",
        "inappropriate"
      ],
      "metadata": {
        "id": "9e2ZejpM2ep8"
      },
      "execution_count": null,
      "outputs": []
    },
    {
      "cell_type": "code",
      "source": [
        "check_inappropriate(filtered, inappropriate)"
      ],
      "metadata": {
        "colab": {
          "base_uri": "https://localhost:8080/"
        },
        "id": "cUN5choMHksC",
        "outputId": "71c06f1e-ce3c-42c8-bc11-9cf72187b03b"
      },
      "execution_count": null,
      "outputs": [
        {
          "output_type": "execute_result",
          "data": {
            "text/plain": [
              "['shit', 'ass', 'bullshit', 'freaking', 'sucked']"
            ]
          },
          "metadata": {},
          "execution_count": 11
        }
      ]
    }
  ]
}