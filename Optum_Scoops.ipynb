{
  "nbformat": 4,
  "nbformat_minor": 0,
  "metadata": {
    "colab": {
      "provenance": [],
      "authorship_tag": "ABX9TyPWT3pEwZcW+rzSM92cSEip",
      "include_colab_link": true
    },
    "kernelspec": {
      "name": "python3",
      "display_name": "Python 3"
    },
    "language_info": {
      "name": "python"
    }
  },
  "cells": [
    {
      "cell_type": "markdown",
      "metadata": {
        "id": "view-in-github",
        "colab_type": "text"
      },
      "source": [
        "<a href=\"https://colab.research.google.com/github/shashibongit/ProviderFeedbackScoops/blob/main/Optum_Scoops.ipynb\" target=\"_parent\"><img src=\"https://colab.research.google.com/assets/colab-badge.svg\" alt=\"Open In Colab\"/></a>"
      ]
    },
    {
      "cell_type": "code",
      "source": [
        "import re\n",
        "import nltk\n",
        "from nltk import *\n",
        "import pandas as pd\n",
        "import numpy as np\n",
        "nltk.download('punkt')\n",
        "nltk.download('stopwords')"
      ],
      "metadata": {
        "id": "bbSp-flagTi-"
      },
      "execution_count": null,
      "outputs": []
    },
    {
      "cell_type": "code",
      "execution_count": 2,
      "metadata": {
        "id": "qXK5gln8f9j3",
        "colab": {
          "base_uri": "https://localhost:8080/"
        },
        "outputId": "8ea0aebd-1e24-4aa8-b98f-91e5c90a68da"
      },
      "outputs": [
        {
          "output_type": "execute_result",
          "data": {
            "text/plain": [
              "0    This freaking doctor couldn't find out whats m...\n",
              "1    The doctor was an ass. The worst experience ev...\n",
              "2    It was a great doctor that treated my Disease ...\n",
              "3    It was okay not that great. They charge a shit...\n",
              "4        Don't go.  The Hospital is Bullshit%#^@$@#!@#\n",
              "Name: Review, dtype: object"
            ]
          },
          "metadata": {},
          "execution_count": 2
        }
      ],
      "source": [
        "data = pd.read_csv(\"/content/Scoops dataset.csv\")\n",
        "data = data['Review']\n",
        "data"
      ]
    },
    {
      "cell_type": "code",
      "source": [
        "data = data.str.lower()\n",
        "data"
      ],
      "metadata": {
        "id": "0Sjv1OdN3Vmc",
        "colab": {
          "base_uri": "https://localhost:8080/"
        },
        "outputId": "3bc8009e-977e-4ba1-b7e7-b0b15434af67"
      },
      "execution_count": 3,
      "outputs": [
        {
          "output_type": "execute_result",
          "data": {
            "text/plain": [
              "0    this freaking doctor couldn't find out whats m...\n",
              "1    the doctor was an ass. the worst experience ev...\n",
              "2    it was a great doctor that treated my disease ...\n",
              "3    it was okay not that great. they charge a shit...\n",
              "4        don't go.  the hospital is bullshit%#^@$@#!@#\n",
              "Name: Review, dtype: object"
            ]
          },
          "metadata": {},
          "execution_count": 3
        }
      ]
    },
    {
      "cell_type": "code",
      "source": [
        "text_data = []\n",
        "for i in data:\n",
        "  i = re.sub(\"[():,.'!#@$%^&*]\", \"\", i)\n",
        "  text_data.append(i)\n",
        "text_data"
      ],
      "metadata": {
        "id": "jcYtXcNOsRqR",
        "colab": {
          "base_uri": "https://localhost:8080/"
        },
        "outputId": "96c27f38-2b0b-4c86-9e69-ccd5dc9f0ba1"
      },
      "execution_count": 4,
      "outputs": [
        {
          "output_type": "execute_result",
          "data": {
            "text/plain": [
              "['this freaking doctor couldnt find out whats my diagnosis and kept me on 10 different pills just for precaution when i needed none of them',\n",
              " 'the doctor was an ass the worst experience ever  the hospital was shit and dirty it sucked',\n",
              " 'it was a great doctor that treated my disease  made me feel at ease all the time ',\n",
              " 'it was okay not that great they charge a shit ton of money  for small stupid problem',\n",
              " 'dont go  the hospital is bullshit']"
            ]
          },
          "metadata": {},
          "execution_count": 4
        }
      ]
    },
    {
      "cell_type": "code",
      "source": [
        "words = []\n",
        "for i in text_data:\n",
        "  words.append(nltk.word_tokenize(i))\n",
        "words = list(np.concatenate(words).flat)\n",
        "words"
      ],
      "metadata": {
        "id": "qDNJZKJjr77j",
        "colab": {
          "base_uri": "https://localhost:8080/"
        },
        "outputId": "c2efda5e-68de-4f88-fa59-c5743d557ad8"
      },
      "execution_count": 5,
      "outputs": [
        {
          "output_type": "execute_result",
          "data": {
            "text/plain": [
              "['this',\n",
              " 'freaking',\n",
              " 'doctor',\n",
              " 'couldnt',\n",
              " 'find',\n",
              " 'out',\n",
              " 'whats',\n",
              " 'my',\n",
              " 'diagnosis',\n",
              " 'and',\n",
              " 'kept',\n",
              " 'me',\n",
              " 'on',\n",
              " '10',\n",
              " 'different',\n",
              " 'pills',\n",
              " 'just',\n",
              " 'for',\n",
              " 'precaution',\n",
              " 'when',\n",
              " 'i',\n",
              " 'needed',\n",
              " 'none',\n",
              " 'of',\n",
              " 'them',\n",
              " 'the',\n",
              " 'doctor',\n",
              " 'was',\n",
              " 'an',\n",
              " 'ass',\n",
              " 'the',\n",
              " 'worst',\n",
              " 'experience',\n",
              " 'ever',\n",
              " 'the',\n",
              " 'hospital',\n",
              " 'was',\n",
              " 'shit',\n",
              " 'and',\n",
              " 'dirty',\n",
              " 'it',\n",
              " 'sucked',\n",
              " 'it',\n",
              " 'was',\n",
              " 'a',\n",
              " 'great',\n",
              " 'doctor',\n",
              " 'that',\n",
              " 'treated',\n",
              " 'my',\n",
              " 'disease',\n",
              " 'made',\n",
              " 'me',\n",
              " 'feel',\n",
              " 'at',\n",
              " 'ease',\n",
              " 'all',\n",
              " 'the',\n",
              " 'time',\n",
              " 'it',\n",
              " 'was',\n",
              " 'okay',\n",
              " 'not',\n",
              " 'that',\n",
              " 'great',\n",
              " 'they',\n",
              " 'charge',\n",
              " 'a',\n",
              " 'shit',\n",
              " 'ton',\n",
              " 'of',\n",
              " 'money',\n",
              " 'for',\n",
              " 'small',\n",
              " 'stupid',\n",
              " 'problem',\n",
              " 'dont',\n",
              " 'go',\n",
              " 'the',\n",
              " 'hospital',\n",
              " 'is',\n",
              " 'bullshit']"
            ]
          },
          "metadata": {},
          "execution_count": 5
        }
      ]
    },
    {
      "cell_type": "code",
      "source": [
        "stopwords = nltk.corpus.stopwords.words('english')\n",
        "filtered = []\n",
        "for i in words:\n",
        "   if i not in stopwords:\n",
        "     filtered.append(i)\n",
        "filtered"
      ],
      "metadata": {
        "id": "JQfgGu8V4J5R",
        "colab": {
          "base_uri": "https://localhost:8080/"
        },
        "outputId": "bec0b0cd-0964-4838-a822-630633c717be"
      },
      "execution_count": 6,
      "outputs": [
        {
          "output_type": "execute_result",
          "data": {
            "text/plain": [
              "['freaking',\n",
              " 'doctor',\n",
              " 'couldnt',\n",
              " 'find',\n",
              " 'whats',\n",
              " 'diagnosis',\n",
              " 'kept',\n",
              " '10',\n",
              " 'different',\n",
              " 'pills',\n",
              " 'precaution',\n",
              " 'needed',\n",
              " 'none',\n",
              " 'doctor',\n",
              " 'ass',\n",
              " 'worst',\n",
              " 'experience',\n",
              " 'ever',\n",
              " 'hospital',\n",
              " 'shit',\n",
              " 'dirty',\n",
              " 'sucked',\n",
              " 'great',\n",
              " 'doctor',\n",
              " 'treated',\n",
              " 'disease',\n",
              " 'made',\n",
              " 'feel',\n",
              " 'ease',\n",
              " 'time',\n",
              " 'okay',\n",
              " 'great',\n",
              " 'charge',\n",
              " 'shit',\n",
              " 'ton',\n",
              " 'money',\n",
              " 'small',\n",
              " 'stupid',\n",
              " 'problem',\n",
              " 'dont',\n",
              " 'go',\n",
              " 'hospital',\n",
              " 'bullshit']"
            ]
          },
          "metadata": {},
          "execution_count": 6
        }
      ]
    },
    {
      "cell_type": "code",
      "source": [
        "inapp_words = pd.read_csv(\"/content/Inapp words.csv\")\n",
        "inapp_words = inapp_words['Inapp words']\n",
        "inapp_words = inapp_words.str.lower()"
      ],
      "metadata": {
        "id": "OULnOK-nCKXr"
      },
      "execution_count": 7,
      "outputs": []
    },
    {
      "cell_type": "code",
      "source": [
        "inappropriate = []\n",
        "for i in inapp_words:\n",
        "  inappropriate.append(i)\n",
        "inappropriate"
      ],
      "metadata": {
        "id": "9dwV_jpGeWve"
      },
      "execution_count": null,
      "outputs": []
    },
    {
      "cell_type": "code",
      "source": [
        "def check_inappropriate(input, bad):\n",
        "  bad_words = []\n",
        "  for i in bad:\n",
        "    if i in (\" \" + \" \".join(input) + \" \"):\n",
        "      bad_words.append(i[1:len(i)-1])\n",
        "  return bad_words"
      ],
      "metadata": {
        "id": "C7gBJjGRu5hT"
      },
      "execution_count": 9,
      "outputs": []
    },
    {
      "cell_type": "code",
      "source": [
        "inappropriate = [ \" \" + string + \" \" for string in inappropriate]\n",
        "inappropriate"
      ],
      "metadata": {
        "id": "9e2ZejpM2ep8"
      },
      "execution_count": null,
      "outputs": []
    },
    {
      "cell_type": "code",
      "source": [
        "check_inappropriate(filtered, inappropriate)"
      ],
      "metadata": {
        "colab": {
          "base_uri": "https://localhost:8080/"
        },
        "id": "cUN5choMHksC",
        "outputId": "b19c38cf-0eeb-4816-90cd-83fb091459fb"
      },
      "execution_count": 11,
      "outputs": [
        {
          "output_type": "execute_result",
          "data": {
            "text/plain": [
              "['shit', 'ass', 'bullshit', 'freaking', 'sucked']"
            ]
          },
          "metadata": {},
          "execution_count": 11
        }
      ]
    }
  ]
}